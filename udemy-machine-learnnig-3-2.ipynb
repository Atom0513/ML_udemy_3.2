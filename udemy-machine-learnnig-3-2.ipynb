{
  "nbformat": 4,
  "nbformat_minor": 0,
  "metadata": {
    "colab": {
      "name": "udemy machine learnnig 3.2.ipynb",
      "provenance": [],
      "authorship_tag": "ABX9TyP8c6a1ROcTiDjXLrnKmITQ",
      "include_colab_link": true
    },
    "kernelspec": {
      "name": "python3",
      "display_name": "Python 3"
    }
  },
  "cells": [
    {
      "cell_type": "markdown",
      "metadata": {
        "id": "view-in-github",
        "colab_type": "text"
      },
      "source": [
        "<a href=\"https://colab.research.google.com/gist/Atom0513/3f2f990d8cfa1bc78a6c7046d58c3823/udemy-machine-learnnig-3-2.ipynb\" target=\"_parent\"><img src=\"https://colab.research.google.com/assets/colab-badge.svg\" alt=\"Open In Colab\"/></a>"
      ]
    },
    {
      "cell_type": "code",
      "metadata": {
        "id": "6XWyvVa6oYNq",
        "colab_type": "code",
        "outputId": "9e8de2df-fd07-4e75-f7b9-dabedf6a0721",
        "colab": {
          "base_uri": "https://localhost:8080/",
          "height": 72
        }
      },
      "source": [
        "import numpy as np\n",
        "from PIL import Image\n",
        "\n",
        "'''\n",
        "テーマ：手書きの数字をデータとして学習させ、違う手書きの数字をアルゴリズムに認識させる仕組みを作っていきます。\n",
        "'''\n",
        "\n",
        "'''\n",
        "まずは、学習用のデータとして手書きにした数字を画像データとして準備して下さい。\n",
        "（学習用として2つ、検証用として1つ準備して下さい。学習用のデータ1つと、検証用のデータの数字は同じにして下さい。）\n",
        "手書きの数字をデータにする方法は、（画像の取り込み、画像のデータ化）という講義を参考にして下さい。\n",
        "\n",
        "そして、準備したデータを以下のtraining_data1の'4-1.png'、\n",
        "training_data2の'7-1.pngファイルと差し替えて下さい'。\n",
        "'''\n",
        "\n",
        "training_data1 = Image.open('3.jpg')\n",
        "training_data1_grey = training_data1.convert('L')\n",
        "training_data1_array = (255 - np.asarray(training_data1_grey))/255\n",
        "training_data1_list = training_data1_array.reshape(1,784)\n",
        "\n",
        "training_data2 = Image.open('9.jpg')\n",
        "training_data2_grey = training_data2.convert('L')\n",
        "training_data2_array = (255 - np.asarray(training_data2_grey))/255\n",
        "training_data2_list = training_data2_array.reshape(1,784)\n",
        "\n",
        "input_data = np.append(training_data1_list, training_data2_list, axis=0)\n",
        "\n",
        "expected_output = np.array([[0],[1]])\n",
        "\n",
        "data_number = input_data.shape[0]\n",
        "\n",
        "input_node = input_data.T.shape[0]\n",
        "first_node = 200\n",
        "second_node = 1\n",
        "\n",
        "alpha = 0.1\n",
        "epochs = 100\n",
        "\n",
        "\n",
        "def sigmoid(z):\n",
        "    return 1 / (1 + np.exp(-z))\n",
        "\n",
        "def sigmoid_prime(z):\n",
        "    return sigmoid(z)*(1 - sigmoid(z))\n",
        "\n",
        "first_weight = np.random.rand(input_node, first_node) - 0.5\n",
        "second_weight = np.random.rand(first_node, second_node) - 0.5\n",
        "\n",
        "for t in range(epochs):\n",
        "    for i in range(data_number):\n",
        "        first_node_input = np.dot(input_data, first_weight)\n",
        "        first_node_activation = sigmoid(first_node_input)\n",
        "        second_node_input = np.dot(first_node_activation, second_weight)\n",
        "        second_node_activation = sigmoid(second_node_input)\n",
        "        \n",
        "        d_error = second_node_activation - expected_output\n",
        "        d_second_node_activation = d_error * sigmoid_prime(second_node_input)\n",
        "        d_second_node_weight = first_node_activation.T.dot(d_second_node_activation)\n",
        "        \n",
        "        d_second_node_input = d_second_node_activation.dot(second_weight.T)\n",
        "        d_first_node_activation = d_second_node_input * sigmoid_prime(first_node_input)\n",
        "        d_input_weight = input_data.T.dot(d_first_node_activation)\n",
        "        \n",
        "        first_weight = first_weight - alpha*(d_input_weight)\n",
        "        second_weight = second_weight - alpha*(d_second_node_weight)\n",
        "\n",
        "'''\n",
        "検証用のデータの差し替えをします。\n",
        "検証用に作成したデータを、以下のtest_data内の'7-1.png'ファイルと差し替えて下さい。\n",
        "'''\n",
        "\n",
        "test_data = Image.open('9.jpg')\n",
        "test_data_grey = test_data.convert('L')\n",
        "test_data_array = (255 - np.asarray(test_data_grey))/255\n",
        "test_data_list = test_data_array.reshape(1,784)\n",
        "\n",
        "\n",
        "first_node_input = np.dot(test_data_list, first_weight)\n",
        "first_node_activation = sigmoid(first_node_input)\n",
        "second_node_input = np.dot(first_node_activation, second_weight)\n",
        "second_node_activation = sigmoid(second_node_input)\n",
        "print(second_node_activation)\n",
        "'''\n",
        "コードを実行すると、右の実行結果の所に数字が表示されます。この数字が大きければ大きいほど、正しく数字を認識しています。\n",
        "意図した結果にならない場合は、alphaやepochsの数を変更して改めて結果を確認してみましょう。\n",
        "'''\n"
      ],
      "execution_count": 0,
      "outputs": [
        {
          "output_type": "stream",
          "text": [
            "[[0.96519398]]\n"
          ],
          "name": "stdout"
        },
        {
          "output_type": "execute_result",
          "data": {
            "text/plain": [
              "'\\nコードを実行すると、右の実行結果の所に数字が表示されます。この数字が大きければ大きいほど、正しく数字を認識しています。\\n意図した結果にならない場合は、alphaやepochsの数を変更して改めて結果を確認してみましょう。\\n'"
            ]
          },
          "metadata": {
            "tags": []
          },
          "execution_count": 7
        }
      ]
    }
  ]
}